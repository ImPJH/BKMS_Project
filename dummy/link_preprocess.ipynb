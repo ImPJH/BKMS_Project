{
 "cells": [
  {
   "cell_type": "code",
   "execution_count": 1,
   "metadata": {},
   "outputs": [],
   "source": [
    "import pandas as pd\n",
    "\n",
    "accommodation = pd.read_csv('../data/accommodation.csv')\n",
    "listing = pd.read_csv('listings.csv')"
   ]
  },
  {
   "cell_type": "code",
   "execution_count": 2,
   "metadata": {},
   "outputs": [
    {
     "data": {
      "text/plain": [
       "Index(['id', 'host_id', 'neighbourhood_id', 'name', 'description', 'latitude',\n",
       "       'longitude', 'room_type', 'short_description', 'accommodates',\n",
       "       'bathrooms', 'bedrooms', 'beds', 'amenities', 'price', 'minimum_nights',\n",
       "       'maximum_nights', 'review_num', 'review_avg', 'review_cleanliness',\n",
       "       'review_checkin', 'review_location', 'airbnb_danger',\n",
       "       'airbnb_danger_normalized'],\n",
       "      dtype='object')"
      ]
     },
     "execution_count": 2,
     "metadata": {},
     "output_type": "execute_result"
    }
   ],
   "source": [
    "accommodation.columns"
   ]
  },
  {
   "cell_type": "code",
   "execution_count": 7,
   "metadata": {},
   "outputs": [],
   "source": [
    "link = listing[['id', 'listing_url']]"
   ]
  },
  {
   "cell_type": "code",
   "execution_count": 13,
   "metadata": {},
   "outputs": [
    {
     "name": "stderr",
     "output_type": "stream",
     "text": [
      "/var/folders/h4/c7cjl3v14579slvycnln3g1c0000gn/T/ipykernel_31365/909677130.py:1: SettingWithCopyWarning: \n",
      "A value is trying to be set on a copy of a slice from a DataFrame\n",
      "\n",
      "See the caveats in the documentation: https://pandas.pydata.org/pandas-docs/stable/user_guide/indexing.html#returning-a-view-versus-a-copy\n",
      "  link.rename(columns={'listing_url':'link'}, inplace=True)\n"
     ]
    }
   ],
   "source": [
    "link.rename(columns={'listing_url':'link'}, inplace=True)"
   ]
  },
  {
   "cell_type": "code",
   "execution_count": 14,
   "metadata": {},
   "outputs": [
    {
     "data": {
      "text/html": [
       "<div>\n",
       "<style scoped>\n",
       "    .dataframe tbody tr th:only-of-type {\n",
       "        vertical-align: middle;\n",
       "    }\n",
       "\n",
       "    .dataframe tbody tr th {\n",
       "        vertical-align: top;\n",
       "    }\n",
       "\n",
       "    .dataframe thead th {\n",
       "        text-align: right;\n",
       "    }\n",
       "</style>\n",
       "<table border=\"1\" class=\"dataframe\">\n",
       "  <thead>\n",
       "    <tr style=\"text-align: right;\">\n",
       "      <th></th>\n",
       "      <th>id</th>\n",
       "      <th>link</th>\n",
       "    </tr>\n",
       "  </thead>\n",
       "  <tbody>\n",
       "    <tr>\n",
       "      <th>0</th>\n",
       "      <td>9630344</td>\n",
       "      <td>https://www.airbnb.com/rooms/9630344</td>\n",
       "    </tr>\n",
       "    <tr>\n",
       "      <th>1</th>\n",
       "      <td>3533741</td>\n",
       "      <td>https://www.airbnb.com/rooms/3533741</td>\n",
       "    </tr>\n",
       "    <tr>\n",
       "      <th>2</th>\n",
       "      <td>9731039</td>\n",
       "      <td>https://www.airbnb.com/rooms/9731039</td>\n",
       "    </tr>\n",
       "    <tr>\n",
       "      <th>3</th>\n",
       "      <td>21736164</td>\n",
       "      <td>https://www.airbnb.com/rooms/21736164</td>\n",
       "    </tr>\n",
       "    <tr>\n",
       "      <th>4</th>\n",
       "      <td>22280002</td>\n",
       "      <td>https://www.airbnb.com/rooms/22280002</td>\n",
       "    </tr>\n",
       "    <tr>\n",
       "      <th>...</th>\n",
       "      <td>...</td>\n",
       "      <td>...</td>\n",
       "    </tr>\n",
       "    <tr>\n",
       "      <th>38787</th>\n",
       "      <td>27697402</td>\n",
       "      <td>https://www.airbnb.com/rooms/27697402</td>\n",
       "    </tr>\n",
       "    <tr>\n",
       "      <th>38788</th>\n",
       "      <td>11871903</td>\n",
       "      <td>https://www.airbnb.com/rooms/11871903</td>\n",
       "    </tr>\n",
       "    <tr>\n",
       "      <th>38789</th>\n",
       "      <td>9686167</td>\n",
       "      <td>https://www.airbnb.com/rooms/9686167</td>\n",
       "    </tr>\n",
       "    <tr>\n",
       "      <th>38790</th>\n",
       "      <td>52459126</td>\n",
       "      <td>https://www.airbnb.com/rooms/52459126</td>\n",
       "    </tr>\n",
       "    <tr>\n",
       "      <th>38791</th>\n",
       "      <td>52838667</td>\n",
       "      <td>https://www.airbnb.com/rooms/52838667</td>\n",
       "    </tr>\n",
       "  </tbody>\n",
       "</table>\n",
       "<p>38792 rows × 2 columns</p>\n",
       "</div>"
      ],
      "text/plain": [
       "             id                                   link\n",
       "0       9630344   https://www.airbnb.com/rooms/9630344\n",
       "1       3533741   https://www.airbnb.com/rooms/3533741\n",
       "2       9731039   https://www.airbnb.com/rooms/9731039\n",
       "3      21736164  https://www.airbnb.com/rooms/21736164\n",
       "4      22280002  https://www.airbnb.com/rooms/22280002\n",
       "...         ...                                    ...\n",
       "38787  27697402  https://www.airbnb.com/rooms/27697402\n",
       "38788  11871903  https://www.airbnb.com/rooms/11871903\n",
       "38789   9686167   https://www.airbnb.com/rooms/9686167\n",
       "38790  52459126  https://www.airbnb.com/rooms/52459126\n",
       "38791  52838667  https://www.airbnb.com/rooms/52838667\n",
       "\n",
       "[38792 rows x 2 columns]"
      ]
     },
     "execution_count": 14,
     "metadata": {},
     "output_type": "execute_result"
    }
   ],
   "source": [
    "link"
   ]
  },
  {
   "cell_type": "code",
   "execution_count": 15,
   "metadata": {},
   "outputs": [
    {
     "data": {
      "text/html": [
       "<div>\n",
       "<style scoped>\n",
       "    .dataframe tbody tr th:only-of-type {\n",
       "        vertical-align: middle;\n",
       "    }\n",
       "\n",
       "    .dataframe tbody tr th {\n",
       "        vertical-align: top;\n",
       "    }\n",
       "\n",
       "    .dataframe thead th {\n",
       "        text-align: right;\n",
       "    }\n",
       "</style>\n",
       "<table border=\"1\" class=\"dataframe\">\n",
       "  <thead>\n",
       "    <tr style=\"text-align: right;\">\n",
       "      <th></th>\n",
       "      <th>id</th>\n",
       "      <th>host_id</th>\n",
       "      <th>neighbourhood_id</th>\n",
       "      <th>name</th>\n",
       "      <th>description</th>\n",
       "      <th>latitude</th>\n",
       "      <th>longitude</th>\n",
       "      <th>room_type</th>\n",
       "      <th>short_description</th>\n",
       "      <th>accommodates</th>\n",
       "      <th>...</th>\n",
       "      <th>minimum_nights</th>\n",
       "      <th>maximum_nights</th>\n",
       "      <th>review_num</th>\n",
       "      <th>review_avg</th>\n",
       "      <th>review_cleanliness</th>\n",
       "      <th>review_checkin</th>\n",
       "      <th>review_location</th>\n",
       "      <th>airbnb_danger</th>\n",
       "      <th>airbnb_danger_normalized</th>\n",
       "      <th>link</th>\n",
       "    </tr>\n",
       "  </thead>\n",
       "  <tbody>\n",
       "    <tr>\n",
       "      <th>0</th>\n",
       "      <td>21736164</td>\n",
       "      <td>4298654</td>\n",
       "      <td>51</td>\n",
       "      <td>Light-filled 1BR Brownstone Apartment, Bed Stu...</td>\n",
       "      <td>Light-filled, high-ceilinged 1BR brownstone ap...</td>\n",
       "      <td>40.68180</td>\n",
       "      <td>-73.93121</td>\n",
       "      <td>Entire home/apt</td>\n",
       "      <td>Rental unit in Brooklyn · 1 bedroom · 1 bed · ...</td>\n",
       "      <td>2</td>\n",
       "      <td>...</td>\n",
       "      <td>45</td>\n",
       "      <td>1125</td>\n",
       "      <td>2</td>\n",
       "      <td>5.00</td>\n",
       "      <td>5.00</td>\n",
       "      <td>5.00</td>\n",
       "      <td>5.00</td>\n",
       "      <td>4.00</td>\n",
       "      <td>0.000081</td>\n",
       "      <td>https://www.airbnb.com/rooms/21736164</td>\n",
       "    </tr>\n",
       "    <tr>\n",
       "      <th>1</th>\n",
       "      <td>22280002</td>\n",
       "      <td>67373899</td>\n",
       "      <td>51</td>\n",
       "      <td>Stuyvesant Heights Loft like Apartment.</td>\n",
       "      <td>This is a comfortable super spacious sunny 1 b...</td>\n",
       "      <td>40.68209</td>\n",
       "      <td>-73.94279</td>\n",
       "      <td>Entire home/apt</td>\n",
       "      <td>Rental unit in Brooklyn · ★4.98 · 1 bedroom · ...</td>\n",
       "      <td>4</td>\n",
       "      <td>...</td>\n",
       "      <td>30</td>\n",
       "      <td>180</td>\n",
       "      <td>88</td>\n",
       "      <td>4.98</td>\n",
       "      <td>4.99</td>\n",
       "      <td>4.95</td>\n",
       "      <td>4.94</td>\n",
       "      <td>1.14</td>\n",
       "      <td>0.000023</td>\n",
       "      <td>https://www.airbnb.com/rooms/22280002</td>\n",
       "    </tr>\n",
       "    <tr>\n",
       "      <th>2</th>\n",
       "      <td>3539618</td>\n",
       "      <td>506909</td>\n",
       "      <td>110</td>\n",
       "      <td>Large modern studio in Gramercy</td>\n",
       "      <td>This is a large alcove studio in a new buildin...</td>\n",
       "      <td>40.73779</td>\n",
       "      <td>-73.98032</td>\n",
       "      <td>Entire home/apt</td>\n",
       "      <td>Rental unit in New York · ★4.67 · Studio · 1 b...</td>\n",
       "      <td>2</td>\n",
       "      <td>...</td>\n",
       "      <td>30</td>\n",
       "      <td>1125</td>\n",
       "      <td>9</td>\n",
       "      <td>4.67</td>\n",
       "      <td>4.78</td>\n",
       "      <td>4.89</td>\n",
       "      <td>4.67</td>\n",
       "      <td>4.99</td>\n",
       "      <td>0.000101</td>\n",
       "      <td>https://www.airbnb.com/rooms/3539618</td>\n",
       "    </tr>\n",
       "    <tr>\n",
       "      <th>3</th>\n",
       "      <td>9710620</td>\n",
       "      <td>7027191</td>\n",
       "      <td>66</td>\n",
       "      <td>1-bed Apt in Crown Heights</td>\n",
       "      <td>If you request a stay, please send an intro wi...</td>\n",
       "      <td>40.67742</td>\n",
       "      <td>-73.94956</td>\n",
       "      <td>Entire home/apt</td>\n",
       "      <td>Rental unit in Brooklyn · ★5.0 · 1 bedroom · 2...</td>\n",
       "      <td>2</td>\n",
       "      <td>...</td>\n",
       "      <td>30</td>\n",
       "      <td>90</td>\n",
       "      <td>6</td>\n",
       "      <td>5.00</td>\n",
       "      <td>4.83</td>\n",
       "      <td>5.00</td>\n",
       "      <td>5.00</td>\n",
       "      <td>4.17</td>\n",
       "      <td>0.000084</td>\n",
       "      <td>https://www.airbnb.com/rooms/9710620</td>\n",
       "    </tr>\n",
       "    <tr>\n",
       "      <th>4</th>\n",
       "      <td>35430378</td>\n",
       "      <td>266645207</td>\n",
       "      <td>176</td>\n",
       "      <td>Enchanted room 5 mins from JFK/ LGA 15 mins away</td>\n",
       "      <td>Convenient, quiet ,sparkling clean and relaxin...</td>\n",
       "      <td>40.66262</td>\n",
       "      <td>-73.74880</td>\n",
       "      <td>Private room</td>\n",
       "      <td>Home in Laurelton , Queens  · ★4.70 · 1 bedroo...</td>\n",
       "      <td>1</td>\n",
       "      <td>...</td>\n",
       "      <td>30</td>\n",
       "      <td>30</td>\n",
       "      <td>63</td>\n",
       "      <td>4.70</td>\n",
       "      <td>4.83</td>\n",
       "      <td>4.73</td>\n",
       "      <td>4.75</td>\n",
       "      <td>4.99</td>\n",
       "      <td>0.000101</td>\n",
       "      <td>https://www.airbnb.com/rooms/35430378</td>\n",
       "    </tr>\n",
       "    <tr>\n",
       "      <th>...</th>\n",
       "      <td>...</td>\n",
       "      <td>...</td>\n",
       "      <td>...</td>\n",
       "      <td>...</td>\n",
       "      <td>...</td>\n",
       "      <td>...</td>\n",
       "      <td>...</td>\n",
       "      <td>...</td>\n",
       "      <td>...</td>\n",
       "      <td>...</td>\n",
       "      <td>...</td>\n",
       "      <td>...</td>\n",
       "      <td>...</td>\n",
       "      <td>...</td>\n",
       "      <td>...</td>\n",
       "      <td>...</td>\n",
       "      <td>...</td>\n",
       "      <td>...</td>\n",
       "      <td>...</td>\n",
       "      <td>...</td>\n",
       "      <td>...</td>\n",
       "    </tr>\n",
       "    <tr>\n",
       "      <th>10961</th>\n",
       "      <td>322037</td>\n",
       "      <td>1649300</td>\n",
       "      <td>95</td>\n",
       "      <td>Luxury Williamsburg, Brooklyn LOFT</td>\n",
       "      <td>Luxurious, spacious loft in prime location in ...</td>\n",
       "      <td>40.71923</td>\n",
       "      <td>-73.95820</td>\n",
       "      <td>Entire home/apt</td>\n",
       "      <td>Rental unit in Brooklyn · ★4.82 · 1 bedroom · ...</td>\n",
       "      <td>5</td>\n",
       "      <td>...</td>\n",
       "      <td>30</td>\n",
       "      <td>150</td>\n",
       "      <td>284</td>\n",
       "      <td>4.82</td>\n",
       "      <td>4.73</td>\n",
       "      <td>4.86</td>\n",
       "      <td>4.97</td>\n",
       "      <td>4.62</td>\n",
       "      <td>0.000093</td>\n",
       "      <td>https://www.airbnb.com/rooms/322037</td>\n",
       "    </tr>\n",
       "    <tr>\n",
       "      <th>10962</th>\n",
       "      <td>148825</td>\n",
       "      <td>718349</td>\n",
       "      <td>126</td>\n",
       "      <td>Best City Area Columbia U Upper West Side C Park</td>\n",
       "      <td>Close to Columbia / C Park and everything else...</td>\n",
       "      <td>40.79999</td>\n",
       "      <td>-73.96338</td>\n",
       "      <td>Entire home/apt</td>\n",
       "      <td>Rental unit in New York · ★4.75 · 2 bedrooms ·...</td>\n",
       "      <td>3</td>\n",
       "      <td>...</td>\n",
       "      <td>30</td>\n",
       "      <td>180</td>\n",
       "      <td>301</td>\n",
       "      <td>4.75</td>\n",
       "      <td>4.48</td>\n",
       "      <td>4.94</td>\n",
       "      <td>4.83</td>\n",
       "      <td>2.00</td>\n",
       "      <td>0.000040</td>\n",
       "      <td>https://www.airbnb.com/rooms/148825</td>\n",
       "    </tr>\n",
       "    <tr>\n",
       "      <th>10963</th>\n",
       "      <td>27697402</td>\n",
       "      <td>21020951</td>\n",
       "      <td>51</td>\n",
       "      <td>Sunny and Bright Room</td>\n",
       "      <td>Clean and very sunny room with a comfortable f...</td>\n",
       "      <td>40.69448</td>\n",
       "      <td>-73.93722</td>\n",
       "      <td>Private room</td>\n",
       "      <td>Rental unit in Brooklyn · ★4.78 · 1 bedroom · ...</td>\n",
       "      <td>1</td>\n",
       "      <td>...</td>\n",
       "      <td>30</td>\n",
       "      <td>30</td>\n",
       "      <td>18</td>\n",
       "      <td>4.78</td>\n",
       "      <td>4.89</td>\n",
       "      <td>5.00</td>\n",
       "      <td>4.61</td>\n",
       "      <td>1.72</td>\n",
       "      <td>0.000035</td>\n",
       "      <td>https://www.airbnb.com/rooms/27697402</td>\n",
       "    </tr>\n",
       "    <tr>\n",
       "      <th>10964</th>\n",
       "      <td>11871903</td>\n",
       "      <td>50032395</td>\n",
       "      <td>126</td>\n",
       "      <td>Cozy Bedroom on UWS steps to CPW !!</td>\n",
       "      <td>A wonderful sunny apartment that has everythin...</td>\n",
       "      <td>40.80243</td>\n",
       "      <td>-73.96719</td>\n",
       "      <td>Private room</td>\n",
       "      <td>Rental unit in New York · 1 bedroom · 1 bed · ...</td>\n",
       "      <td>2</td>\n",
       "      <td>...</td>\n",
       "      <td>30</td>\n",
       "      <td>1125</td>\n",
       "      <td>1</td>\n",
       "      <td>5.00</td>\n",
       "      <td>5.00</td>\n",
       "      <td>5.00</td>\n",
       "      <td>5.00</td>\n",
       "      <td>4.00</td>\n",
       "      <td>0.000081</td>\n",
       "      <td>https://www.airbnb.com/rooms/11871903</td>\n",
       "    </tr>\n",
       "    <tr>\n",
       "      <th>10965</th>\n",
       "      <td>9686167</td>\n",
       "      <td>50032395</td>\n",
       "      <td>126</td>\n",
       "      <td>Beautiful Large Bedroom on UWS !!</td>\n",
       "      <td>A wonderful sunny apartment that has everythin...</td>\n",
       "      <td>40.80213</td>\n",
       "      <td>-73.96626</td>\n",
       "      <td>Private room</td>\n",
       "      <td>Rental unit in New York · ★5.0 · 1 bedroom · 1...</td>\n",
       "      <td>2</td>\n",
       "      <td>...</td>\n",
       "      <td>30</td>\n",
       "      <td>1125</td>\n",
       "      <td>7</td>\n",
       "      <td>5.00</td>\n",
       "      <td>5.00</td>\n",
       "      <td>4.71</td>\n",
       "      <td>5.00</td>\n",
       "      <td>4.29</td>\n",
       "      <td>0.000086</td>\n",
       "      <td>https://www.airbnb.com/rooms/9686167</td>\n",
       "    </tr>\n",
       "  </tbody>\n",
       "</table>\n",
       "<p>10966 rows × 25 columns</p>\n",
       "</div>"
      ],
      "text/plain": [
       "             id    host_id  neighbourhood_id  \\\n",
       "0      21736164    4298654                51   \n",
       "1      22280002   67373899                51   \n",
       "2       3539618     506909               110   \n",
       "3       9710620    7027191                66   \n",
       "4      35430378  266645207               176   \n",
       "...         ...        ...               ...   \n",
       "10961    322037    1649300                95   \n",
       "10962    148825     718349               126   \n",
       "10963  27697402   21020951                51   \n",
       "10964  11871903   50032395               126   \n",
       "10965   9686167   50032395               126   \n",
       "\n",
       "                                                    name  \\\n",
       "0      Light-filled 1BR Brownstone Apartment, Bed Stu...   \n",
       "1                Stuyvesant Heights Loft like Apartment.   \n",
       "2                        Large modern studio in Gramercy   \n",
       "3                             1-bed Apt in Crown Heights   \n",
       "4       Enchanted room 5 mins from JFK/ LGA 15 mins away   \n",
       "...                                                  ...   \n",
       "10961                 Luxury Williamsburg, Brooklyn LOFT   \n",
       "10962   Best City Area Columbia U Upper West Side C Park   \n",
       "10963                              Sunny and Bright Room   \n",
       "10964                Cozy Bedroom on UWS steps to CPW !!   \n",
       "10965                  Beautiful Large Bedroom on UWS !!   \n",
       "\n",
       "                                             description  latitude  longitude  \\\n",
       "0      Light-filled, high-ceilinged 1BR brownstone ap...  40.68180  -73.93121   \n",
       "1      This is a comfortable super spacious sunny 1 b...  40.68209  -73.94279   \n",
       "2      This is a large alcove studio in a new buildin...  40.73779  -73.98032   \n",
       "3      If you request a stay, please send an intro wi...  40.67742  -73.94956   \n",
       "4      Convenient, quiet ,sparkling clean and relaxin...  40.66262  -73.74880   \n",
       "...                                                  ...       ...        ...   \n",
       "10961  Luxurious, spacious loft in prime location in ...  40.71923  -73.95820   \n",
       "10962  Close to Columbia / C Park and everything else...  40.79999  -73.96338   \n",
       "10963  Clean and very sunny room with a comfortable f...  40.69448  -73.93722   \n",
       "10964  A wonderful sunny apartment that has everythin...  40.80243  -73.96719   \n",
       "10965  A wonderful sunny apartment that has everythin...  40.80213  -73.96626   \n",
       "\n",
       "             room_type                                  short_description  \\\n",
       "0      Entire home/apt  Rental unit in Brooklyn · 1 bedroom · 1 bed · ...   \n",
       "1      Entire home/apt  Rental unit in Brooklyn · ★4.98 · 1 bedroom · ...   \n",
       "2      Entire home/apt  Rental unit in New York · ★4.67 · Studio · 1 b...   \n",
       "3      Entire home/apt  Rental unit in Brooklyn · ★5.0 · 1 bedroom · 2...   \n",
       "4         Private room  Home in Laurelton , Queens  · ★4.70 · 1 bedroo...   \n",
       "...                ...                                                ...   \n",
       "10961  Entire home/apt  Rental unit in Brooklyn · ★4.82 · 1 bedroom · ...   \n",
       "10962  Entire home/apt  Rental unit in New York · ★4.75 · 2 bedrooms ·...   \n",
       "10963     Private room  Rental unit in Brooklyn · ★4.78 · 1 bedroom · ...   \n",
       "10964     Private room  Rental unit in New York · 1 bedroom · 1 bed · ...   \n",
       "10965     Private room  Rental unit in New York · ★5.0 · 1 bedroom · 1...   \n",
       "\n",
       "       accommodates  ...  minimum_nights  maximum_nights  review_num  \\\n",
       "0                 2  ...              45            1125           2   \n",
       "1                 4  ...              30             180          88   \n",
       "2                 2  ...              30            1125           9   \n",
       "3                 2  ...              30              90           6   \n",
       "4                 1  ...              30              30          63   \n",
       "...             ...  ...             ...             ...         ...   \n",
       "10961             5  ...              30             150         284   \n",
       "10962             3  ...              30             180         301   \n",
       "10963             1  ...              30              30          18   \n",
       "10964             2  ...              30            1125           1   \n",
       "10965             2  ...              30            1125           7   \n",
       "\n",
       "      review_avg  review_cleanliness  review_checkin  review_location  \\\n",
       "0           5.00                5.00            5.00             5.00   \n",
       "1           4.98                4.99            4.95             4.94   \n",
       "2           4.67                4.78            4.89             4.67   \n",
       "3           5.00                4.83            5.00             5.00   \n",
       "4           4.70                4.83            4.73             4.75   \n",
       "...          ...                 ...             ...              ...   \n",
       "10961       4.82                4.73            4.86             4.97   \n",
       "10962       4.75                4.48            4.94             4.83   \n",
       "10963       4.78                4.89            5.00             4.61   \n",
       "10964       5.00                5.00            5.00             5.00   \n",
       "10965       5.00                5.00            4.71             5.00   \n",
       "\n",
       "       airbnb_danger  airbnb_danger_normalized  \\\n",
       "0               4.00                  0.000081   \n",
       "1               1.14                  0.000023   \n",
       "2               4.99                  0.000101   \n",
       "3               4.17                  0.000084   \n",
       "4               4.99                  0.000101   \n",
       "...              ...                       ...   \n",
       "10961           4.62                  0.000093   \n",
       "10962           2.00                  0.000040   \n",
       "10963           1.72                  0.000035   \n",
       "10964           4.00                  0.000081   \n",
       "10965           4.29                  0.000086   \n",
       "\n",
       "                                        link  \n",
       "0      https://www.airbnb.com/rooms/21736164  \n",
       "1      https://www.airbnb.com/rooms/22280002  \n",
       "2       https://www.airbnb.com/rooms/3539618  \n",
       "3       https://www.airbnb.com/rooms/9710620  \n",
       "4      https://www.airbnb.com/rooms/35430378  \n",
       "...                                      ...  \n",
       "10961    https://www.airbnb.com/rooms/322037  \n",
       "10962    https://www.airbnb.com/rooms/148825  \n",
       "10963  https://www.airbnb.com/rooms/27697402  \n",
       "10964  https://www.airbnb.com/rooms/11871903  \n",
       "10965   https://www.airbnb.com/rooms/9686167  \n",
       "\n",
       "[10966 rows x 25 columns]"
      ]
     },
     "execution_count": 15,
     "metadata": {},
     "output_type": "execute_result"
    }
   ],
   "source": [
    "new_csv = pd.merge(accommodation, link, how='left', on='id')\n",
    "new_csv"
   ]
  },
  {
   "cell_type": "code",
   "execution_count": 16,
   "metadata": {},
   "outputs": [
    {
     "data": {
      "text/plain": [
       "(10966, 24)"
      ]
     },
     "execution_count": 16,
     "metadata": {},
     "output_type": "execute_result"
    }
   ],
   "source": [
    "accommodation.shape"
   ]
  },
  {
   "cell_type": "code",
   "execution_count": 17,
   "metadata": {},
   "outputs": [
    {
     "data": {
      "text/plain": [
       "(10966, 25)"
      ]
     },
     "execution_count": 17,
     "metadata": {},
     "output_type": "execute_result"
    }
   ],
   "source": [
    "new_csv.shape"
   ]
  },
  {
   "cell_type": "code",
   "execution_count": 19,
   "metadata": {},
   "outputs": [],
   "source": [
    "new_csv.to_csv('accommodation.csv')"
   ]
  },
  {
   "cell_type": "code",
   "execution_count": 20,
   "metadata": {},
   "outputs": [],
   "source": [
    "link_csv = new_csv[['id', 'link']]"
   ]
  },
  {
   "cell_type": "code",
   "execution_count": 21,
   "metadata": {},
   "outputs": [
    {
     "data": {
      "text/plain": [
       "(10966, 2)"
      ]
     },
     "execution_count": 21,
     "metadata": {},
     "output_type": "execute_result"
    }
   ],
   "source": [
    "link_csv.shape"
   ]
  },
  {
   "cell_type": "code",
   "execution_count": 23,
   "metadata": {},
   "outputs": [
    {
     "data": {
      "text/html": [
       "<div>\n",
       "<style scoped>\n",
       "    .dataframe tbody tr th:only-of-type {\n",
       "        vertical-align: middle;\n",
       "    }\n",
       "\n",
       "    .dataframe tbody tr th {\n",
       "        vertical-align: top;\n",
       "    }\n",
       "\n",
       "    .dataframe thead th {\n",
       "        text-align: right;\n",
       "    }\n",
       "</style>\n",
       "<table border=\"1\" class=\"dataframe\">\n",
       "  <thead>\n",
       "    <tr style=\"text-align: right;\">\n",
       "      <th></th>\n",
       "      <th>id</th>\n",
       "      <th>link</th>\n",
       "    </tr>\n",
       "  </thead>\n",
       "  <tbody>\n",
       "    <tr>\n",
       "      <th>0</th>\n",
       "      <td>21736164</td>\n",
       "      <td>https://www.airbnb.com/rooms/21736164</td>\n",
       "    </tr>\n",
       "    <tr>\n",
       "      <th>1</th>\n",
       "      <td>22280002</td>\n",
       "      <td>https://www.airbnb.com/rooms/22280002</td>\n",
       "    </tr>\n",
       "    <tr>\n",
       "      <th>2</th>\n",
       "      <td>3539618</td>\n",
       "      <td>https://www.airbnb.com/rooms/3539618</td>\n",
       "    </tr>\n",
       "    <tr>\n",
       "      <th>3</th>\n",
       "      <td>9710620</td>\n",
       "      <td>https://www.airbnb.com/rooms/9710620</td>\n",
       "    </tr>\n",
       "    <tr>\n",
       "      <th>4</th>\n",
       "      <td>35430378</td>\n",
       "      <td>https://www.airbnb.com/rooms/35430378</td>\n",
       "    </tr>\n",
       "    <tr>\n",
       "      <th>...</th>\n",
       "      <td>...</td>\n",
       "      <td>...</td>\n",
       "    </tr>\n",
       "    <tr>\n",
       "      <th>10961</th>\n",
       "      <td>322037</td>\n",
       "      <td>https://www.airbnb.com/rooms/322037</td>\n",
       "    </tr>\n",
       "    <tr>\n",
       "      <th>10962</th>\n",
       "      <td>148825</td>\n",
       "      <td>https://www.airbnb.com/rooms/148825</td>\n",
       "    </tr>\n",
       "    <tr>\n",
       "      <th>10963</th>\n",
       "      <td>27697402</td>\n",
       "      <td>https://www.airbnb.com/rooms/27697402</td>\n",
       "    </tr>\n",
       "    <tr>\n",
       "      <th>10964</th>\n",
       "      <td>11871903</td>\n",
       "      <td>https://www.airbnb.com/rooms/11871903</td>\n",
       "    </tr>\n",
       "    <tr>\n",
       "      <th>10965</th>\n",
       "      <td>9686167</td>\n",
       "      <td>https://www.airbnb.com/rooms/9686167</td>\n",
       "    </tr>\n",
       "  </tbody>\n",
       "</table>\n",
       "<p>10966 rows × 2 columns</p>\n",
       "</div>"
      ],
      "text/plain": [
       "             id                                   link\n",
       "0      21736164  https://www.airbnb.com/rooms/21736164\n",
       "1      22280002  https://www.airbnb.com/rooms/22280002\n",
       "2       3539618   https://www.airbnb.com/rooms/3539618\n",
       "3       9710620   https://www.airbnb.com/rooms/9710620\n",
       "4      35430378  https://www.airbnb.com/rooms/35430378\n",
       "...         ...                                    ...\n",
       "10961    322037    https://www.airbnb.com/rooms/322037\n",
       "10962    148825    https://www.airbnb.com/rooms/148825\n",
       "10963  27697402  https://www.airbnb.com/rooms/27697402\n",
       "10964  11871903  https://www.airbnb.com/rooms/11871903\n",
       "10965   9686167   https://www.airbnb.com/rooms/9686167\n",
       "\n",
       "[10966 rows x 2 columns]"
      ]
     },
     "execution_count": 23,
     "metadata": {},
     "output_type": "execute_result"
    }
   ],
   "source": [
    "link_csv"
   ]
  },
  {
   "cell_type": "code",
   "execution_count": 1,
   "metadata": {},
   "outputs": [
    {
     "name": "stderr",
     "output_type": "stream",
     "text": [
      "/var/folders/h4/c7cjl3v14579slvycnln3g1c0000gn/T/ipykernel_36023/2408493738.py:3: DtypeWarning: Columns (0) have mixed types. Specify dtype option on import or set low_memory=False.\n",
      "  crime = pd.read_csv('../data/crime.csv')\n"
     ]
    }
   ],
   "source": [
    "import pandas as pd\n",
    "\n",
    "crime = pd.read_csv('../data/crime.csv')"
   ]
  },
  {
   "cell_type": "code",
   "execution_count": 2,
   "metadata": {},
   "outputs": [
    {
     "data": {
      "text/plain": [
       "Index(['crime_id', 'precinct', 'neighbourhood_group', 'date', 'crime_type',\n",
       "       'VIC_AGE_GROUP', 'VIC_RACE', 'VIC_SEX', 'Latitude', 'Longitude',\n",
       "       'Lat_Lon'],\n",
       "      dtype='object')"
      ]
     },
     "execution_count": 2,
     "metadata": {},
     "output_type": "execute_result"
    }
   ],
   "source": [
    "crime.columns"
   ]
  },
  {
   "cell_type": "code",
   "execution_count": 4,
   "metadata": {},
   "outputs": [
    {
     "data": {
      "text/plain": [
       "array(['WHITE HISPANIC', 'UNKNOWN', 'WHITE', 'ASIAN PACIFIC ISLANDER',\n",
       "       'BLACK', 'BLACK HISPANIC', 'AMERICAN INDIAN ALASKAN NATIVE'],\n",
       "      dtype=object)"
      ]
     },
     "execution_count": 4,
     "metadata": {},
     "output_type": "execute_result"
    }
   ],
   "source": [
    "crime['VIC_RACE'].unique()"
   ]
  },
  {
   "cell_type": "code",
   "execution_count": 5,
   "metadata": {},
   "outputs": [
    {
     "data": {
      "text/plain": [
       "array(['18-24', 'UNKNOWN', '25-44', '45-64', '<18', '65+'], dtype=object)"
      ]
     },
     "execution_count": 5,
     "metadata": {},
     "output_type": "execute_result"
    }
   ],
   "source": [
    "crime['VIC_AGE_GROUP'].unique()"
   ]
  },
  {
   "cell_type": "markdown",
   "metadata": {},
   "source": [
    "'<18', '18-24', '25-44', '45-64', '65+', 'UNKNOWN'"
   ]
  },
  {
   "cell_type": "code",
   "execution_count": 2,
   "metadata": {},
   "outputs": [],
   "source": [
    "crime_race = pd.DataFrame(crime['VIC_RACE'].value_counts()).reset_index()"
   ]
  },
  {
   "cell_type": "code",
   "execution_count": 3,
   "metadata": {},
   "outputs": [
    {
     "data": {
      "text/html": [
       "<div>\n",
       "<style scoped>\n",
       "    .dataframe tbody tr th:only-of-type {\n",
       "        vertical-align: middle;\n",
       "    }\n",
       "\n",
       "    .dataframe tbody tr th {\n",
       "        vertical-align: top;\n",
       "    }\n",
       "\n",
       "    .dataframe thead th {\n",
       "        text-align: right;\n",
       "    }\n",
       "</style>\n",
       "<table border=\"1\" class=\"dataframe\">\n",
       "  <thead>\n",
       "    <tr style=\"text-align: right;\">\n",
       "      <th></th>\n",
       "      <th>VIC_RACE</th>\n",
       "      <th>count</th>\n",
       "    </tr>\n",
       "  </thead>\n",
       "  <tbody>\n",
       "    <tr>\n",
       "      <th>0</th>\n",
       "      <td>UNKNOWN</td>\n",
       "      <td>18684</td>\n",
       "    </tr>\n",
       "    <tr>\n",
       "      <th>1</th>\n",
       "      <td>BLACK</td>\n",
       "      <td>15130</td>\n",
       "    </tr>\n",
       "    <tr>\n",
       "      <th>2</th>\n",
       "      <td>WHITE HISPANIC</td>\n",
       "      <td>13402</td>\n",
       "    </tr>\n",
       "    <tr>\n",
       "      <th>3</th>\n",
       "      <td>WHITE</td>\n",
       "      <td>12065</td>\n",
       "    </tr>\n",
       "    <tr>\n",
       "      <th>4</th>\n",
       "      <td>ASIAN PACIFIC ISLANDER</td>\n",
       "      <td>7251</td>\n",
       "    </tr>\n",
       "    <tr>\n",
       "      <th>5</th>\n",
       "      <td>BLACK HISPANIC</td>\n",
       "      <td>3364</td>\n",
       "    </tr>\n",
       "    <tr>\n",
       "      <th>6</th>\n",
       "      <td>AMERICAN INDIAN ALASKAN NATIVE</td>\n",
       "      <td>308</td>\n",
       "    </tr>\n",
       "  </tbody>\n",
       "</table>\n",
       "</div>"
      ],
      "text/plain": [
       "                         VIC_RACE  count\n",
       "0                         UNKNOWN  18684\n",
       "1                           BLACK  15130\n",
       "2                  WHITE HISPANIC  13402\n",
       "3                           WHITE  12065\n",
       "4          ASIAN PACIFIC ISLANDER   7251\n",
       "5                  BLACK HISPANIC   3364\n",
       "6  AMERICAN INDIAN ALASKAN NATIVE    308"
      ]
     },
     "execution_count": 3,
     "metadata": {},
     "output_type": "execute_result"
    }
   ],
   "source": [
    "crime_race"
   ]
  },
  {
   "cell_type": "code",
   "execution_count": 20,
   "metadata": {},
   "outputs": [
    {
     "data": {
      "text/plain": [
       "0.10328471312175945"
      ]
     },
     "execution_count": 20,
     "metadata": {},
     "output_type": "execute_result"
    }
   ],
   "source": [
    "(crime_race.loc[crime_race['VIC_RACE'] == 'ASIAN PACIFIC ISLANDER', 'count'] / sum(crime_race['count'])).iloc[0]"
   ]
  },
  {
   "cell_type": "code",
   "execution_count": 15,
   "metadata": {},
   "outputs": [
    {
     "data": {
      "text/plain": [
       "70204"
      ]
     },
     "execution_count": 15,
     "metadata": {},
     "output_type": "execute_result"
    }
   ],
   "source": [
    "sum(crime_race['count'])"
   ]
  },
  {
   "cell_type": "code",
   "execution_count": 17,
   "metadata": {},
   "outputs": [
    {
     "data": {
      "text/plain": [
       "0.10328471312175945"
      ]
     },
     "execution_count": 17,
     "metadata": {},
     "output_type": "execute_result"
    }
   ],
   "source": [
    "7251/70204"
   ]
  },
  {
   "cell_type": "code",
   "execution_count": null,
   "metadata": {},
   "outputs": [],
   "source": []
  }
 ],
 "metadata": {
  "kernelspec": {
   "display_name": "Python 3",
   "language": "python",
   "name": "python3"
  },
  "language_info": {
   "codemirror_mode": {
    "name": "ipython",
    "version": 3
   },
   "file_extension": ".py",
   "mimetype": "text/x-python",
   "name": "python",
   "nbconvert_exporter": "python",
   "pygments_lexer": "ipython3",
   "version": "3.9.6"
  }
 },
 "nbformat": 4,
 "nbformat_minor": 2
}
